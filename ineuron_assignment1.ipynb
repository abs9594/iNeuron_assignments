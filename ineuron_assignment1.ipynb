{
  "nbformat": 4,
  "nbformat_minor": 0,
  "metadata": {
    "colab": {
      "name": "ineuron_assignment1.ipynb",
      "provenance": [],
      "collapsed_sections": []
    },
    "kernelspec": {
      "name": "python3",
      "display_name": "Python 3"
    }
  },
  "cells": [
    {
      "cell_type": "markdown",
      "metadata": {
        "id": "8fd674YnqMWc",
        "colab_type": "text"
      },
      "source": [
        "<h1>Task 1"
      ]
    },
    {
      "cell_type": "markdown",
      "metadata": {
        "id": "XjzZeASfAH9t",
        "colab_type": "text"
      },
      "source": [
        "<h3> Question1"
      ]
    },
    {
      "cell_type": "code",
      "metadata": {
        "id": "IbUl6HxSG1yM",
        "colab_type": "code",
        "colab": {
          "base_uri": "https://localhost:8080/",
          "height": 34
        },
        "outputId": "c22cf919-c7bf-4c31-bc9f-ecbfe9b43bb8"
      },
      "source": [
        "print(\"Hello World\")"
      ],
      "execution_count": 13,
      "outputs": [
        {
          "output_type": "stream",
          "text": [
            "Hello World\n"
          ],
          "name": "stdout"
        }
      ]
    },
    {
      "cell_type": "markdown",
      "metadata": {
        "id": "fB_AjrhwALoy",
        "colab_type": "text"
      },
      "source": [
        "<h3> Question 2"
      ]
    },
    {
      "cell_type": "code",
      "metadata": {
        "id": "6yTh-f-MAOPs",
        "colab_type": "code",
        "colab": {
          "base_uri": "https://localhost:8080/",
          "height": 54
        },
        "outputId": "6cf23f56-58c0-4a4a-8d99-e5d3de7eb4bf"
      },
      "source": [
        "def find_divisors(num1,num2):\n",
        "  for num in range(num1,num2+1):\n",
        "    if num%7 == 0 and num%5 != 0:\n",
        "      print(num,end=\",\")\n",
        "\n",
        "find_divisors(2000,3200)"
      ],
      "execution_count": 3,
      "outputs": [
        {
          "output_type": "stream",
          "text": [
            "2002,2009,2016,2023,2037,2044,2051,2058,2072,2079,2086,2093,2107,2114,2121,2128,2142,2149,2156,2163,2177,2184,2191,2198,2212,2219,2226,2233,2247,2254,2261,2268,2282,2289,2296,2303,2317,2324,2331,2338,2352,2359,2366,2373,2387,2394,2401,2408,2422,2429,2436,2443,2457,2464,2471,2478,2492,2499,2506,2513,2527,2534,2541,2548,2562,2569,2576,2583,2597,2604,2611,2618,2632,2639,2646,2653,2667,2674,2681,2688,2702,2709,2716,2723,2737,2744,2751,2758,2772,2779,2786,2793,2807,2814,2821,2828,2842,2849,2856,2863,2877,2884,2891,2898,2912,2919,2926,2933,2947,2954,2961,2968,2982,2989,2996,3003,3017,3024,3031,3038,3052,3059,3066,3073,3087,3094,3101,3108,3122,3129,3136,3143,3157,3164,3171,3178,3192,3199,"
          ],
          "name": "stdout"
        }
      ]
    },
    {
      "cell_type": "markdown",
      "metadata": {
        "id": "BF0MZw0RBZt_",
        "colab_type": "text"
      },
      "source": [
        "<h3> Question 3"
      ]
    },
    {
      "cell_type": "code",
      "metadata": {
        "id": "AmiKfvl4Bvin",
        "colab_type": "code",
        "colab": {
          "base_uri": "https://localhost:8080/",
          "height": 69
        },
        "outputId": "05fe7a93-02f3-49b9-8d3c-fcb69685c758"
      },
      "source": [
        "def reverse_name(first_name,last_name):\n",
        "  print(last_name+\" \"+first_name)\n",
        "\n",
        "f_name = input(\"Please Enter First Name \")\n",
        "l_name = input(\"Please Enter Last Name \")\n",
        "reverse_name(f_name,l_name)"
      ],
      "execution_count": 12,
      "outputs": [
        {
          "output_type": "stream",
          "text": [
            "Please Enter First Name Abhishek\n",
            "Please Enter Last Name Singh\n",
            "Singh Abhishek\n"
          ],
          "name": "stdout"
        }
      ]
    },
    {
      "cell_type": "markdown",
      "metadata": {
        "id": "XIQevIrmBbnQ",
        "colab_type": "text"
      },
      "source": [
        "<h3> Question 4"
      ]
    },
    {
      "cell_type": "code",
      "metadata": {
        "id": "3wOeqBwCC9rh",
        "colab_type": "code",
        "colab": {
          "base_uri": "https://localhost:8080/",
          "height": 34
        },
        "outputId": "66e8c49f-cf88-460a-deed-072e2de26531"
      },
      "source": [
        "from math import pi\n",
        "def volume_sphere(radius):\n",
        "  print(4/3*pi*radius**3,\"cm^3\")\n",
        "\n",
        "volume_sphere(12)"
      ],
      "execution_count": 7,
      "outputs": [
        {
          "output_type": "stream",
          "text": [
            "7238.229473870882 cm^3\n"
          ],
          "name": "stdout"
        }
      ]
    },
    {
      "cell_type": "markdown",
      "metadata": {
        "id": "JZGbNo8qBp9d",
        "colab_type": "text"
      },
      "source": [
        "<h1>Task 2"
      ]
    },
    {
      "cell_type": "markdown",
      "metadata": {
        "id": "tez4KLK1BdK5",
        "colab_type": "text"
      },
      "source": [
        "<h3> Question 1"
      ]
    },
    {
      "cell_type": "code",
      "metadata": {
        "id": "vQN4H3qdD1_W",
        "colab_type": "code",
        "colab": {
          "base_uri": "https://localhost:8080/",
          "height": 52
        },
        "outputId": "590cd680-0d62-4f2b-d2fa-f4f4286fafb0"
      },
      "source": [
        "def seq_to_list(seq):\n",
        "  print([int(num) for num in seq.split(\",\")])\n",
        "\n",
        "seq = input(\"Please Enter Sequence \")\n",
        "seq_to_list(seq)"
      ],
      "execution_count": 9,
      "outputs": [
        {
          "output_type": "stream",
          "text": [
            "Please Enter Sequence 1,2,3,4,5,6,7,8,9,11,15,19,85,78,552,6552,222555,5522,225,5,5,2,22,2,2,5,5,5\n",
            "[1, 2, 3, 4, 5, 6, 7, 8, 9, 11, 15, 19, 85, 78, 552, 6552, 222555, 5522, 225, 5, 5, 2, 22, 2, 2, 5, 5, 5]\n"
          ],
          "name": "stdout"
        }
      ]
    },
    {
      "cell_type": "markdown",
      "metadata": {
        "id": "lGzNjuvrBjoB",
        "colab_type": "text"
      },
      "source": [
        "<h3> Question 2"
      ]
    },
    {
      "cell_type": "code",
      "metadata": {
        "id": "9aAaCURAElRu",
        "colab_type": "code",
        "colab": {
          "base_uri": "https://localhost:8080/",
          "height": 191
        },
        "outputId": "7ef89de7-c235-47a4-f025-2858bc70f7c0"
      },
      "source": [
        "def print_pattern(num):\n",
        "  for i in range(0,num):\n",
        "    for j in range(0, i+1):\n",
        "      print(\"* \",end=\"\")\n",
        "    print(\"\\r\")\n",
        "\n",
        "  for i in range(0,num):\n",
        "    for j in range(0, num-i):\n",
        "      print(\"* \",end=\"\")\n",
        "    print(\"\\r\")\n",
        "\n",
        "print_pattern(5)"
      ],
      "execution_count": 17,
      "outputs": [
        {
          "output_type": "stream",
          "text": [
            "* \r\n",
            "* * \r\n",
            "* * * \r\n",
            "* * * * \r\n",
            "* * * * * \r\n",
            "* * * * * \r\n",
            "* * * * \r\n",
            "* * * \r\n",
            "* * \r\n",
            "* \r\n"
          ],
          "name": "stdout"
        }
      ]
    },
    {
      "cell_type": "markdown",
      "metadata": {
        "id": "89nGLEatBldT",
        "colab_type": "text"
      },
      "source": [
        "<h3> Question 3"
      ]
    },
    {
      "cell_type": "code",
      "metadata": {
        "id": "xpEJ6w_zEyy0",
        "colab_type": "code",
        "colab": {
          "base_uri": "https://localhost:8080/",
          "height": 52
        },
        "outputId": "4869a999-7ec2-4214-a916-6d5a6c5d2f4d"
      },
      "source": [
        "def reverse_string(word):\n",
        "  print(word[::-1])\n",
        "\n",
        "word = input(\"Plese Enter a word \")\n",
        "reverse_string(word)"
      ],
      "execution_count": 10,
      "outputs": [
        {
          "output_type": "stream",
          "text": [
            "Plese Enter a word Abhishek\n",
            "kehsihbA\n"
          ],
          "name": "stdout"
        }
      ]
    },
    {
      "cell_type": "markdown",
      "metadata": {
        "id": "Gi5qUA5uBmql",
        "colab_type": "text"
      },
      "source": [
        "<h3> Question 4"
      ]
    },
    {
      "cell_type": "code",
      "metadata": {
        "id": "ZGpYxTA-IesN",
        "colab_type": "code",
        "colab": {
          "base_uri": "https://localhost:8080/",
          "height": 86
        },
        "outputId": "44d71c24-63f8-4b57-f805-a4914f630d11"
      },
      "source": [
        "def print_pattern(statement):\n",
        "  print(statement.split(\"having\")[0]+\"\\n \\t\" +\n",
        "        statement.split(\"INDIA,\")[1].split(\"SOCIALIST\")[0]+\"! \\n \\t\"+\n",
        "        statement.split(\"INDIA,\")[1].split(\"SOVEREIGN,\")[1].split(\"and\")[0]+\"\\n\"+\"\\t\"+\n",
        "        statement.split(\"INDIA,\")[1].split(\"REPUBLIC\")[1]\n",
        "        )\n",
        "  \n",
        "print_pattern(\"WE, THE PEOPLE OF INDIA, having solemnly resolved to constitute India into a SOVEREIGN, SOCIALIST, SECULAR, DEMOCRATIC REPUBLIC and to secure to all its citizens\")"
      ],
      "execution_count": 28,
      "outputs": [
        {
          "output_type": "stream",
          "text": [
            "WE, THE PEOPLE OF INDIA, \n",
            " \t having solemnly resolved to constitute India into a SOVEREIGN, ! \n",
            " \t SOCIALIST, SECULAR, DEMOCRATIC REPUBLIC \n",
            "\t and to secure to all its citizens\n"
          ],
          "name": "stdout"
        }
      ]
    }
  ]
}