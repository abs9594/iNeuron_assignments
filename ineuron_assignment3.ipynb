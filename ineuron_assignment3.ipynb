{
  "nbformat": 4,
  "nbformat_minor": 0,
  "metadata": {
    "colab": {
      "name": "ineuron_assignment3.ipynb",
      "provenance": [],
      "collapsed_sections": []
    },
    "kernelspec": {
      "name": "python3",
      "display_name": "Python 3"
    }
  },
  "cells": [
    {
      "cell_type": "markdown",
      "metadata": {
        "id": "8fd674YnqMWc",
        "colab_type": "text"
      },
      "source": [
        "<h1>Task 1"
      ]
    },
    {
      "cell_type": "markdown",
      "metadata": {
        "id": "XjzZeASfAH9t",
        "colab_type": "text"
      },
      "source": [
        "<h3> Question1.1"
      ]
    },
    {
      "cell_type": "code",
      "metadata": {
        "id": "IbUl6HxSG1yM",
        "colab_type": "code",
        "outputId": "901b8442-9c4a-44b5-ed5b-70ae4e7f842c",
        "colab": {
          "base_uri": "https://localhost:8080/",
          "height": 34
        }
      },
      "source": [
        "# Write a function to compute 5/0 and use try/except to catch the exceptions.\n",
        "\n",
        "def divide_by_zero():\n",
        "  try:\n",
        "    return 5 / 0\n",
        "  except Exception as err:\n",
        "    return(\"Exception Occured : \"+str(err))\n",
        "\n",
        "print(divide_by_zero())"
      ],
      "execution_count": 0,
      "outputs": [
        {
          "output_type": "stream",
          "text": [
            "Exception Occured : division by zero\n"
          ],
          "name": "stdout"
        }
      ]
    },
    {
      "cell_type": "markdown",
      "metadata": {
        "id": "fB_AjrhwALoy",
        "colab_type": "text"
      },
      "source": [
        "<h3> Question 2"
      ]
    },
    {
      "cell_type": "code",
      "metadata": {
        "id": "6yTh-f-MAOPs",
        "colab_type": "code",
        "outputId": "3ef58d86-18c3-4e0d-f849-a7677490ae62",
        "colab": {
          "base_uri": "https://localhost:8080/",
          "height": 156
        }
      },
      "source": [
        "# Implement a Python program to generate all sentences where subject is in [\"Americans\",\n",
        "# \"Indians\"] and verb is in [\"Play\", \"watch\"] and the object is in [\"Baseball\",\"cricket\"].\n",
        "# Hint: Subject,Verb and Object should be declared in the program as shown below.\n",
        "# subjects=[\"Americans \",\"Indians\"]\n",
        "# verbs=[\"play\",\"watch\"]\n",
        "# objects=[\"Baseball\",\"Cricket\"]\n",
        "# Output should come as below:\n",
        "# Americans play Baseball.\n",
        "# Americans play Cricket.\n",
        "# Americans watch Baseball.\n",
        "# Americans watch Cricket.\n",
        "# Indians play Baseball.\n",
        "# Indians play Cricket.\n",
        "# Indians watch Baseball.\n",
        "# Indians watch Cricket.\n",
        "\n",
        "from itertools import product\n",
        "def generate_sentence(l1,l2,l3):\n",
        "  for x in product(l1,l2,l3):\n",
        "    print(\" \".join(x))\n",
        "\n",
        "generate_sentence([\"Americans\",\"Indians\"],[\"play\",\"watch\"],[\"Baseball\",\"Cricket\"])"
      ],
      "execution_count": 0,
      "outputs": [
        {
          "output_type": "stream",
          "text": [
            "Americans play Baseball\n",
            "Americans play Cricket\n",
            "Americans watch Baseball\n",
            "Americans watch Cricket\n",
            "Indians play Baseball\n",
            "Indians play Cricket\n",
            "Indians watch Baseball\n",
            "Indians watch Cricket\n"
          ],
          "name": "stdout"
        }
      ]
    },
    {
      "cell_type": "markdown",
      "metadata": {
        "id": "JZGbNo8qBp9d",
        "colab_type": "text"
      },
      "source": [
        "<h1>Task 2"
      ]
    },
    {
      "cell_type": "markdown",
      "metadata": {
        "id": "tez4KLK1BdK5",
        "colab_type": "text"
      },
      "source": [
        "\n",
        "<h3> Question 1"
      ]
    },
    {
      "cell_type": "code",
      "metadata": {
        "id": "vQN4H3qdD1_W",
        "colab_type": "code",
        "outputId": "bdf2e65d-0d33-4c40-c8d8-53ef608b0cec",
        "colab": {
          "base_uri": "https://localhost:8080/",
          "height": 173
        }
      },
      "source": [
        "# Write a function so that the columns of the output matrix are powers of the input vector.\n",
        "# The order of the powers is determined by the increasing boolean argument. Specifically, when\n",
        "# increasing is False, the i-th output column is the input vector raised element-wise to the power\n",
        "# of N - i - 1.\n",
        "# HINT: Such a matrix with a geometric progression in each row is named for Alexandre-\n",
        "# Theophile Vandermonde.\n",
        "import numpy as np\n",
        "def generate_matrix(input_vector,N,increasing=True):\n",
        "  arr = np.array([[1 for i in input_vector]]).T\n",
        "  if(increasing==True):\n",
        "    for num in range(1,N):\n",
        "      new_arr = list(map(lambda x:x**num,input_vector))\n",
        "      new_arr = np.array([new_arr]).T\n",
        "      arr = np.hstack((arr,new_arr))\n",
        "  else:\n",
        "    for num in range(2,N+1):\n",
        "      new_arr = list(map(lambda x:x**num,input_vector))\n",
        "      new_arr = np.array([new_arr]).T\n",
        "      arr = np.hstack((new_arr,arr))\n",
        "  return arr\n",
        "\n",
        "print(generate_matrix([1,2,3],4),\"\\n\")\n",
        "print(\"#\"*30,\"\\n\")\n",
        "print(generate_matrix([1,2,3],4,increasing=False))"
      ],
      "execution_count": 14,
      "outputs": [
        {
          "output_type": "stream",
          "text": [
            "[[ 1  1  1  1]\n",
            " [ 1  2  4  8]\n",
            " [ 1  3  9 27]] \n",
            "\n",
            "############################## \n",
            "\n",
            "[[ 1  1  1  1]\n",
            " [16  8  4  1]\n",
            " [81 27  9  1]]\n"
          ],
          "name": "stdout"
        }
      ]
    }
  ]
}