{
  "nbformat": 4,
  "nbformat_minor": 0,
  "metadata": {
    "colab": {
      "name": "ineuron_assignment2.ipynb",
      "provenance": [],
      "collapsed_sections": []
    },
    "kernelspec": {
      "name": "python3",
      "display_name": "Python 3"
    }
  },
  "cells": [
    {
      "cell_type": "markdown",
      "metadata": {
        "id": "8fd674YnqMWc",
        "colab_type": "text"
      },
      "source": [
        "<h1>Task 1"
      ]
    },
    {
      "cell_type": "markdown",
      "metadata": {
        "id": "XjzZeASfAH9t",
        "colab_type": "text"
      },
      "source": [
        "<h3> Question1.1"
      ]
    },
    {
      "cell_type": "code",
      "metadata": {
        "id": "IbUl6HxSG1yM",
        "colab_type": "code",
        "outputId": "d71ca701-fde5-4a9d-8ac8-0e60d674ab9a",
        "colab": {
          "base_uri": "https://localhost:8080/",
          "height": 34
        }
      },
      "source": [
        "# Write a Python Program to implement your own myreduce() function which works exactly like\n",
        "# Python's built-in function reduce()\n",
        "\n",
        "def myReduce(func,list_elements,*args):\n",
        "\n",
        "  if len(args)==0:\n",
        "    default=None\n",
        "  else:\n",
        "    default=args[0]\n",
        "\n",
        "  if default==None:\n",
        "    output = list_elements[0]\n",
        "    start_index = 1\n",
        "  else:\n",
        "    output = default\n",
        "    start_index = 0\n",
        "\n",
        "  for element in list_elements[start_index:]:\n",
        "    output = func(output,element)\n",
        "\n",
        "  return output\n",
        "  \n",
        "def myfunc(num1,num2):\n",
        "  return num1+num2\n",
        "\n",
        "print(myReduce(myfunc,[1,2,3],5))"
      ],
      "execution_count": 0,
      "outputs": [
        {
          "output_type": "stream",
          "text": [
            "11\n"
          ],
          "name": "stdout"
        }
      ]
    },
    {
      "cell_type": "markdown",
      "metadata": {
        "id": "fB_AjrhwALoy",
        "colab_type": "text"
      },
      "source": [
        "<h3> Question 1.2"
      ]
    },
    {
      "cell_type": "code",
      "metadata": {
        "id": "6yTh-f-MAOPs",
        "colab_type": "code",
        "outputId": "48cf1e2a-5324-4ea4-adfc-0d39bca8200f",
        "colab": {
          "base_uri": "https://localhost:8080/",
          "height": 34
        }
      },
      "source": [
        "# Write a Python program to implement your own myfilter() function which works exactly like\n",
        "# Python's built-in function filter()\n",
        "\n",
        "def myFilter(func,itr):\n",
        "  result = [element for element in itr if func(element)]\n",
        "  if type(itr) == list:\n",
        "    return result\n",
        "  elif type(itr) == tuple:\n",
        "    return tuple(result)\n",
        "\n",
        "def myfunc(element):\n",
        "  if element%2==0:\n",
        "    return True\n",
        "  else:\n",
        "    return False\n",
        "\n",
        "myFilter(myfunc,(1,2,3,4))"
      ],
      "execution_count": 0,
      "outputs": [
        {
          "output_type": "execute_result",
          "data": {
            "text/plain": [
              "(2, 4)"
            ]
          },
          "metadata": {
            "tags": []
          },
          "execution_count": 11
        }
      ]
    },
    {
      "cell_type": "markdown",
      "metadata": {
        "id": "BF0MZw0RBZt_",
        "colab_type": "text"
      },
      "source": [
        "<h3> Question 2"
      ]
    },
    {
      "cell_type": "code",
      "metadata": {
        "id": "AmiKfvl4Bvin",
        "colab_type": "code",
        "outputId": "25038e6a-494a-4cd9-805b-193e20731c1a",
        "colab": {
          "base_uri": "https://localhost:8080/",
          "height": 104
        }
      },
      "source": [
        "# Implement List comprehensions to produce the following lists.\n",
        "# Write List comprehensions to produce the following Lists\n",
        "# ['A', 'C', 'A', 'D', 'G', 'I', ’L’, ‘ D’]\n",
        "# ['x', 'xx', 'xxx', 'xxxx', 'y', 'yy', 'yyy', 'yyyy', 'z', 'zz', 'zzz', 'zzzz']\n",
        "# ['x', 'y', 'z', 'xx', 'yy', 'zz', 'xx', 'yy', 'zz', 'xxxx', 'yyyy', 'zzzz']\n",
        "# [[2], [3], [4], [3], [4], [5], [4], [5], [6]]\n",
        "# [[2, 3, 4, 5], [3, 4, 5, 6], [4, 5, 6, 7], [5, 6, 7, 8]]\n",
        "# [(1, 1), (2, 1), (3, 1), (1, 2), (2, 2), (3, 2), (1, 3), (2, 3), (3, 3)]\n",
        "\n",
        "a_list = [i for i in ['A', 'C', 'A', 'D', 'G', 'I', 'L', ' D']]\n",
        "print(a_list)\n",
        "\n",
        "x_list = []\n",
        "for i in ['x','y','z']:\n",
        "  temp = []\n",
        "  for j in range(1,4):\n",
        "    temp.append(i*j)\n",
        "  x_list.extend(temp)\n",
        "print(x_list)\n",
        "\n",
        "num_list1 = []\n",
        "for i in range(2,5):\n",
        "  for j in range(0,3):\n",
        "    num_list1.append([i+j])\n",
        "print(num_list1)\n",
        "\n",
        "num_list2 = []\n",
        "for i in range(2,6):\n",
        "  temp = []\n",
        "  for j in range(0,4):\n",
        "    temp.append(i+j)\n",
        "  num_list2.append(temp)\n",
        "print(num_list2)\n",
        "\n",
        "num_list3 = []\n",
        "for i in range(1,4):\n",
        "  for j in range(1,4):\n",
        "    num_list3.append((j,i))\n",
        "print(num_list3)"
      ],
      "execution_count": 0,
      "outputs": [
        {
          "output_type": "stream",
          "text": [
            "['A', 'C', 'A', 'D', 'G', 'I', 'L', ' D']\n",
            "['x', 'xx', 'xxx', 'y', 'yy', 'yyy', 'z', 'zz', 'zzz']\n",
            "[[2], [3], [4], [3], [4], [5], [4], [5], [6]]\n",
            "[[2, 3, 4, 5], [3, 4, 5, 6], [4, 5, 6, 7], [5, 6, 7, 8]]\n",
            "[(1, 1), (2, 1), (3, 1), (1, 2), (2, 2), (3, 2), (1, 3), (2, 3), (3, 3)]\n"
          ],
          "name": "stdout"
        }
      ]
    },
    {
      "cell_type": "markdown",
      "metadata": {
        "id": "XIQevIrmBbnQ",
        "colab_type": "text"
      },
      "source": [
        "<h3> Question 3"
      ]
    },
    {
      "cell_type": "code",
      "metadata": {
        "id": "3wOeqBwCC9rh",
        "colab_type": "code",
        "outputId": "1097902f-a0f8-49d1-cf44-04c14d1d4e0b",
        "colab": {
          "base_uri": "https://localhost:8080/",
          "height": 69
        }
      },
      "source": [
        "#Implement a function longestWord() that takes a list of words and returns the longest one.\n",
        "\n",
        "def longestWord(word_list):\n",
        "  return sorted(word_list,key=lambda x : len(x))[-1]\n",
        "\n",
        "print(longestWord(['Hi','Bye','Abhisehk','Sudhir','Sudhanshu']))\n",
        "print(longestWord(['Hi','Bye','Abhisehk','Sudhir']))\n",
        "print(longestWord(['Hi','Bye','Sudhir']))"
      ],
      "execution_count": 0,
      "outputs": [
        {
          "output_type": "stream",
          "text": [
            "Sudhanshu\n",
            "Abhisehk\n",
            "Sudhir\n"
          ],
          "name": "stdout"
        }
      ]
    },
    {
      "cell_type": "markdown",
      "metadata": {
        "id": "JZGbNo8qBp9d",
        "colab_type": "text"
      },
      "source": [
        "<h1>Task 2"
      ]
    },
    {
      "cell_type": "markdown",
      "metadata": {
        "id": "tez4KLK1BdK5",
        "colab_type": "text"
      },
      "source": [
        "\n",
        "<h3> Question 1.1"
      ]
    },
    {
      "cell_type": "code",
      "metadata": {
        "id": "vQN4H3qdD1_W",
        "colab_type": "code",
        "outputId": "6ee8ab91-dac4-4f01-e6cd-1a62c69786fd",
        "colab": {
          "base_uri": "https://localhost:8080/",
          "height": 139
        }
      },
      "source": [
        "# Write a Python Program(with class concepts) to find the area of the triangle using the below\n",
        "# formula.\n",
        "# area = (s*(s-a)*(s-b)*(s-c)) ** 0.5\n",
        "# Function to take the length of the sides of triangle from user should be defined in the parent\n",
        "# class and function to calculate the area should be defined in subclass.\n",
        "\n",
        "class Parent:\n",
        "  def __init__(self):\n",
        "    self.side1 = None\n",
        "    self.side2 = None\n",
        "    self.side3 = None\n",
        "\n",
        "  def inputSides(self):\n",
        "    self.side1 = int(input(\"Please Enter first Side: \\n\"))\n",
        "    self.side2 = int(input(\"Please Enter second Side: \\n\"))\n",
        "    self.side3 = int(input(\"Please Enter third Side: \\n\"))\n",
        "\n",
        "class Child(Parent):\n",
        "  def __init__(self):\n",
        "    super().__init__()\n",
        "\n",
        "  def calculateArea(self):\n",
        "    s = (self.side1+self.side2+self.side3)/2\n",
        "    area = (s*(s-self.side1)*(s-self.side2)*(s-self.side3))**0.5\n",
        "    print(area)\n",
        "\n",
        "triangle_object = Child()\n",
        "triangle_object.inputSides()\n",
        "triangle_object.calculateArea()"
      ],
      "execution_count": 0,
      "outputs": [
        {
          "output_type": "stream",
          "text": [
            "Please Enter first Side: \n",
            "10\n",
            "Please Enter second Side: \n",
            "10\n",
            "Please Enter third Side: \n",
            "10\n",
            "43.30127018922193\n"
          ],
          "name": "stdout"
        }
      ]
    },
    {
      "cell_type": "markdown",
      "metadata": {
        "id": "lGzNjuvrBjoB",
        "colab_type": "text"
      },
      "source": [
        "<h3> Question 1.2"
      ]
    },
    {
      "cell_type": "code",
      "metadata": {
        "id": "9aAaCURAElRu",
        "colab_type": "code",
        "outputId": "537af375-03d5-4d0c-8a89-e255be4f0fd0",
        "colab": {
          "base_uri": "https://localhost:8080/",
          "height": 34
        }
      },
      "source": [
        "# Write a function filter_long_words() that takes a list of words and an integer n and returns the list\n",
        "# of words that are longer than n.\n",
        "\n",
        "def filter_long_words(word_list,num):\n",
        "  word_list = list(filter(lambda x: len(x)>num,word_list))\n",
        "  print(word_list)\n",
        "\n",
        "filter_long_words(['jhjjh','jfhjfghlkklk'],7)"
      ],
      "execution_count": 0,
      "outputs": [
        {
          "output_type": "stream",
          "text": [
            "['jfhjfghlkklk']\n"
          ],
          "name": "stdout"
        }
      ]
    },
    {
      "cell_type": "markdown",
      "metadata": {
        "id": "89nGLEatBldT",
        "colab_type": "text"
      },
      "source": [
        "<h3> Question 2.1"
      ]
    },
    {
      "cell_type": "code",
      "metadata": {
        "id": "xpEJ6w_zEyy0",
        "colab_type": "code",
        "outputId": "1defdaf1-46f0-41a2-902a-6abde07e5b8c",
        "colab": {
          "base_uri": "https://localhost:8080/",
          "height": 34
        }
      },
      "source": [
        "# Write a Python program using function concept that maps list of words into a list of integers\n",
        "# representing the lengths of the corresponding words​ .\n",
        "# Hint: ​ If a list [ ab,cde,erty] is passed on to the python function output should come as [2,3,4]\n",
        "# Here 2,3 and 4 are the lengths of the words in the list.\n",
        "\n",
        "def word_to_length(word):\n",
        "  return len(word)\n",
        "\n",
        "def word_to_length_list(word_list):\n",
        "  return list(map(word_to_length,word_list))\n",
        "\n",
        "print(word_to_length_list(['ab','cde','ghdgsts']))"
      ],
      "execution_count": 2,
      "outputs": [
        {
          "output_type": "stream",
          "text": [
            "[2, 3, 7]\n"
          ],
          "name": "stdout"
        }
      ]
    },
    {
      "cell_type": "markdown",
      "metadata": {
        "id": "Gi5qUA5uBmql",
        "colab_type": "text"
      },
      "source": [
        "<h3> Question 2.2"
      ]
    },
    {
      "cell_type": "code",
      "metadata": {
        "id": "ZGpYxTA-IesN",
        "colab_type": "code",
        "outputId": "fe15473a-050d-424e-8942-91197d1be06f",
        "colab": {
          "base_uri": "https://localhost:8080/",
          "height": 243
        }
      },
      "source": [
        "# Write a Python function which takes a character (i.e. a string of length 1) and returns True if it is\n",
        "# a vowel, False otherwise.\n",
        "\n",
        "def find_vowel(letter):\n",
        "  return True if letter in ['a','e','i','o','u'] else False\n",
        "\n",
        "for letter in ['a','b','e','d','i','j','o','k','u','z','y','a','q']:\n",
        "  print(find_vowel(letter))\n"
      ],
      "execution_count": 3,
      "outputs": [
        {
          "output_type": "stream",
          "text": [
            "True\n",
            "False\n",
            "True\n",
            "False\n",
            "True\n",
            "False\n",
            "True\n",
            "False\n",
            "True\n",
            "False\n",
            "False\n",
            "True\n",
            "False\n"
          ],
          "name": "stdout"
        }
      ]
    }
  ]
}